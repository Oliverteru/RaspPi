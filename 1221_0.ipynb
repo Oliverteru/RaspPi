{
  "nbformat": 4,
  "nbformat_minor": 0,
  "metadata": {
    "colab": {
      "name": "1221_0.ipynb",
      "version": "0.3.2",
      "provenance": [],
      "include_colab_link": true
    },
    "kernelspec": {
      "name": "python3",
      "display_name": "Python 3"
    }
  },
  "cells": [
    {
      "cell_type": "markdown",
      "metadata": {
        "id": "view-in-github",
        "colab_type": "text"
      },
      "source": [
        "<a href=\"https://colab.research.google.com/github/Oliverteru/RaspPi/blob/master/1221_0.ipynb\" target=\"_parent\"><img src=\"https://colab.research.google.com/assets/colab-badge.svg\" alt=\"Open In Colab\"/></a>"
      ]
    },
    {
      "metadata": {
        "id": "hOF2q7zBr9vf",
        "colab_type": "code",
        "colab": {}
      },
      "cell_type": "code",
      "source": [
        "!pip install -U -q PyDrive"
      ],
      "execution_count": 0,
      "outputs": []
    },
    {
      "metadata": {
        "id": "GjZ6qn8owMqC",
        "colab_type": "code",
        "colab": {}
      },
      "cell_type": "code",
      "source": [
        "from pydrive.auth import GoogleAuth\n",
        "from pydrive.drive import GoogleDrive\n",
        "from google.colab import auth\n",
        "from oauth2client.client import GoogleCredentials"
      ],
      "execution_count": 0,
      "outputs": []
    },
    {
      "metadata": {
        "id": "cFSZiOACsIw6",
        "colab_type": "code",
        "colab": {}
      },
      "cell_type": "code",
      "source": [
        "P"
      ],
      "execution_count": 0,
      "outputs": []
    },
    {
      "metadata": {
        "id": "CNWA7NHjwub9",
        "colab_type": "code",
        "colab": {}
      },
      "cell_type": "code",
      "source": [
        "auth.authenticate_user()\n",
        "gauth = GoogleAuth()\n",
        "gauth.credentials = GoogleCredentials.get_application_default()\n",
        "drive = GoogleDrive(gauth)"
      ],
      "execution_count": 0,
      "outputs": []
    },
    {
      "metadata": {
        "id": "p9c3y_qZwvUA",
        "colab_type": "code",
        "colab": {}
      },
      "cell_type": "code",
      "source": [
        "id = \"1Ca4LM7Ls-xU_LdDASzv9SlJJblLMaEbk\"\n",
        "downloaded = drive.CreateFile({'id': id})\n",
        "downloaded.GetContentFile('keras-yolo3.zip')\n"
      ],
      "execution_count": 0,
      "outputs": []
    },
    {
      "metadata": {
        "id": "X8Vj0N2FzxTY",
        "colab_type": "code",
        "colab": {
          "base_uri": "https://localhost:8080/",
          "height": 34
        },
        "outputId": "9fe52909-7839-4538-8480-b234fdc5e916"
      },
      "cell_type": "code",
      "source": [
        "!ls"
      ],
      "execution_count": 6,
      "outputs": [
        {
          "output_type": "stream",
          "text": [
            "adc.json  keras-yolo3.zip  sample_data\n"
          ],
          "name": "stdout"
        }
      ]
    },
    {
      "metadata": {
        "id": "uLe3R_TY1eKf",
        "colab_type": "code",
        "colab": {
          "base_uri": "https://localhost:8080/",
          "height": 1071
        },
        "outputId": "7adba353-9363-4fda-9624-bab3a0e2a9c8"
      },
      "cell_type": "code",
      "source": [
        "!unzip keras-yolo3.zip  "
      ],
      "execution_count": 7,
      "outputs": [
        {
          "output_type": "stream",
          "text": [
            "Archive:  keras-yolo3.zip\n",
            "   creating: keras-yolo3/\n",
            "  inflating: keras-yolo3/yolo_video.py  \n",
            "   creating: __MACOSX/\n",
            "   creating: __MACOSX/keras-yolo3/\n",
            "  inflating: __MACOSX/keras-yolo3/._yolo_video.py  \n",
            "  inflating: keras-yolo3/darknet53.cfg  \n",
            "  inflating: __MACOSX/keras-yolo3/._darknet53.cfg  \n",
            "   creating: keras-yolo3/yolo3/\n",
            " extracting: keras-yolo3/yolo3/__init__.py  \n",
            "   creating: __MACOSX/keras-yolo3/yolo3/\n",
            "  inflating: __MACOSX/keras-yolo3/yolo3/.___init__.py  \n",
            "  inflating: keras-yolo3/yolo3/model.py  \n",
            "  inflating: __MACOSX/keras-yolo3/yolo3/._model.py  \n",
            "  inflating: keras-yolo3/yolo3/utils.py  \n",
            "  inflating: __MACOSX/keras-yolo3/yolo3/._utils.py  \n",
            "  inflating: __MACOSX/keras-yolo3/._yolo3  \n",
            "  inflating: keras-yolo3/yolov3-tiny.weights  \n",
            "  inflating: __MACOSX/keras-yolo3/._yolov3-tiny.weights  \n",
            "  inflating: keras-yolo3/LICENSE     \n",
            "  inflating: __MACOSX/keras-yolo3/._LICENSE  \n",
            "  inflating: keras-yolo3/coco_annotation.py  \n",
            "  inflating: __MACOSX/keras-yolo3/._coco_annotation.py  \n",
            "   creating: keras-yolo3/model_data/\n",
            "  inflating: keras-yolo3/model_data/voc_classes.txt  \n",
            "   creating: __MACOSX/keras-yolo3/model_data/\n",
            "  inflating: __MACOSX/keras-yolo3/model_data/._voc_classes.txt  \n",
            "  inflating: keras-yolo3/model_data/yolo_anchors.txt  \n",
            "  inflating: __MACOSX/keras-yolo3/model_data/._yolo_anchors.txt  \n",
            "  inflating: keras-yolo3/model_data/coco_classes.txt  \n",
            "  inflating: __MACOSX/keras-yolo3/model_data/._coco_classes.txt  \n",
            "  inflating: keras-yolo3/model_data/tiny_yolo_anchors.txt  \n",
            "  inflating: __MACOSX/keras-yolo3/model_data/._tiny_yolo_anchors.txt  \n",
            "  inflating: __MACOSX/keras-yolo3/._model_data  \n",
            "  inflating: keras-yolo3/voc_annotation.py  \n",
            "  inflating: __MACOSX/keras-yolo3/._voc_annotation.py  \n",
            "  inflating: keras-yolo3/yolov3-tiny.cfg  \n",
            "  inflating: __MACOSX/keras-yolo3/._yolov3-tiny.cfg  \n",
            "  inflating: keras-yolo3/convert.py  \n",
            "  inflating: __MACOSX/keras-yolo3/._convert.py  \n",
            "  inflating: keras-yolo3/yolov3.cfg  \n",
            "  inflating: __MACOSX/keras-yolo3/._yolov3.cfg  \n",
            "  inflating: keras-yolo3/train_bottleneck.py  \n",
            "  inflating: __MACOSX/keras-yolo3/._train_bottleneck.py  \n",
            "  inflating: keras-yolo3/kmeans.py   \n",
            "  inflating: __MACOSX/keras-yolo3/._kmeans.py  \n",
            "  inflating: keras-yolo3/README.md   \n",
            "  inflating: __MACOSX/keras-yolo3/._README.md  \n",
            "  inflating: keras-yolo3/.gitignore  \n",
            "  inflating: __MACOSX/keras-yolo3/._.gitignore  \n",
            "  inflating: keras-yolo3/train.py    \n",
            "  inflating: __MACOSX/keras-yolo3/._train.py  \n",
            "  inflating: keras-yolo3/yolo.py     \n",
            "  inflating: __MACOSX/keras-yolo3/._yolo.py  \n",
            "   creating: keras-yolo3/font/\n",
            "  inflating: keras-yolo3/font/SIL Open Font License.txt  \n",
            "   creating: __MACOSX/keras-yolo3/font/\n",
            "  inflating: __MACOSX/keras-yolo3/font/._SIL Open Font License.txt  \n",
            "  inflating: keras-yolo3/font/FiraMono-Medium.otf  \n",
            "  inflating: __MACOSX/keras-yolo3/font/._FiraMono-Medium.otf  \n",
            "  inflating: __MACOSX/keras-yolo3/._font  \n",
            "  inflating: __MACOSX/._keras-yolo3  \n"
          ],
          "name": "stdout"
        }
      ]
    },
    {
      "metadata": {
        "id": "CodyBNDk1jSK",
        "colab_type": "code",
        "colab": {
          "base_uri": "https://localhost:8080/",
          "height": 34
        },
        "outputId": "518093e2-aeb3-4c21-ecf9-8f1ad87c3c75"
      },
      "cell_type": "code",
      "source": [
        "!ls"
      ],
      "execution_count": 8,
      "outputs": [
        {
          "output_type": "stream",
          "text": [
            "adc.json  keras-yolo3  keras-yolo3.zip\t__MACOSX  sample_data\n"
          ],
          "name": "stdout"
        }
      ]
    },
    {
      "metadata": {
        "id": "n4626Yhp1lm1",
        "colab_type": "code",
        "colab": {}
      },
      "cell_type": "code",
      "source": [
        ""
      ],
      "execution_count": 0,
      "outputs": []
    }
  ]
}